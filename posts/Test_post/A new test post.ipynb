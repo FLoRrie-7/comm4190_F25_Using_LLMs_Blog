{
 "cells": [
  {
   "cell_type": "raw",
   "id": "4582f78f-c21f-4b98-addb-5309cdd2a024",
   "metadata": {},
   "source": [
    "---\n",
    "title: \"How would your AI make suggestions that are right specifically for you?\"\n",
    "description: \"What you might not encounter in conversations with a human\" \n",
    "author: \"Florrie\"\n",
    "date: \"9/4/2025\"\n",
    "draft: true\n",
    "categories:\n",
    "  - Personalization\n",
    "  - HCI\n",
    "  - Cognitive Sciences\n",
    "---"
   ]
  },
  {
   "cell_type": "code",
   "execution_count": null,
   "id": "f2d6580f-94b2-4242-90f4-f3a3ce9de463",
   "metadata": {},
   "outputs": [],
   "source": [
    "## My LLMs sometimes know more about me than I do\n",
    "\n",
    "> It’s the beginning of another beautiful semester — and according to the syllabus of my communication course, we are required to pick a book from a list of seven on the topic of AI to read throughout the academic term.\n",
    "    \n",
    "> Usually, I would let my large language model introduce each book to me to get a snapshot and then make a judgment myself. This time, I decided to take it a step further and treat the interaction as a small communicative experiment. I would ask the LLM to act as a consultant and actively suggest the best options for me.\n",
    "\n",
    "> This should be a reasonable task for an LLM: I've been using this particular model mainly for school and work since 2023, so our interaction history forms a **rich data** of my academic and intellectual interests. Therefore, it should be able to generate tailored suggestions. However,I decided to make my intention clear in the ask:\n"
   ]
  }
 ],
 "metadata": {
  "kernelspec": {
   "display_name": "Python 3-12 (COMM4190)",
   "language": "python",
   "name": "python3-12_comm4190"
  },
  "language_info": {
   "codemirror_mode": {
    "name": "ipython",
    "version": 3
   },
   "file_extension": ".py",
   "mimetype": "text/x-python",
   "name": "python",
   "nbconvert_exporter": "python",
   "pygments_lexer": "ipython3",
   "version": "3.12.11"
  }
 },
 "nbformat": 4,
 "nbformat_minor": 5
}
