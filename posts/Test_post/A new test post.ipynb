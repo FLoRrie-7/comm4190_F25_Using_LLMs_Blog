{
 "cells": [
  {
   "cell_type": "raw",
   "id": "4582f78f-c21f-4b98-addb-5309cdd2a024",
   "metadata": {},
   "source": [
    "---\n",
    "title: \"Florrie's Test\"\n",
    "description: \"Testing Blogging\" \n",
    "author: \"Florrie\"\n",
    "date: \"9/4/2025\"\n",
    "categories:\n",
    "  - LLMs\n",
    "  - Learning\n",
    "  - K-12\n",
    "  - Children\n",
    "---"
   ]
  },
  {
   "cell_type": "markdown",
   "id": "2e4c8a61-999f-475b-8de1-7e5c6316174a",
   "metadata": {},
   "source": [
    "A visualization problem for LLMs\n",
    "Read the following and see if you can answer the question:\n",
    "There are three boxes in a stack. A pink one, a purple one and a green one. The pink one is in the middle of the stack with the purple below it. What is the color of the box on the bottom of the stack?"
   ]
  }
 ],
 "metadata": {
  "kernelspec": {
   "display_name": "Python 3-12 (COMM4190)",
   "language": "python",
   "name": "python3-12_comm4190"
  },
  "language_info": {
   "codemirror_mode": {
    "name": "ipython",
    "version": 3
   },
   "file_extension": ".py",
   "mimetype": "text/x-python",
   "name": "python",
   "nbconvert_exporter": "python",
   "pygments_lexer": "ipython3",
   "version": "3.12.11"
  }
 },
 "nbformat": 4,
 "nbformat_minor": 5
}
